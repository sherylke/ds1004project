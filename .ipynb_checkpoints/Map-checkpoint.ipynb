{
 "cells": [
  {
   "cell_type": "code",
   "execution_count": null,
   "metadata": {
    "collapsed": true,
    "deletable": true,
    "editable": true
   },
   "outputs": [],
   "source": [
    "import folium\n",
    "# Please check if you have installed folium first\n",
    "import pandas as pd\n",
    "\n",
    "NYC_geo = r'NYC zip code.geojson'\n",
    "NYC_crime = r'combine.csv'\n",
    "ny_data = pd.read_csv(NYC_crime)"
   ]
  },
  {
   "cell_type": "code",
   "execution_count": null,
   "metadata": {
    "collapsed": true,
    "deletable": true,
    "editable": true
   },
   "outputs": [],
   "source": [
    "map = folium.Map(location=[40.7, -74],\n",
    "                 tiles='Mapbox Bright', zoom_start=11)\n",
    "map.choropleth(geo_path=NYC_geo, data=ny_data,\n",
    "columns=['Zipcode', 'Freq_Colli'],\n",
    "key_on='feature.properties.postalCode',\n",
    "fill_color='YlGn', fill_opacity=0.7, line_opacity=0.2,\n",
    "legend_name='Collision Frequent by Zipcode')\n",
    "map.save('Freq_Colli_Map.html')"
   ]
  }
 ],
 "metadata": {
  "kernelspec": {
   "display_name": "Python [conda root]",
   "language": "python",
   "name": "conda-root-py"
  },
  "language_info": {
   "codemirror_mode": {
    "name": "ipython",
    "version": 3
   },
   "file_extension": ".py",
   "mimetype": "text/x-python",
   "name": "python",
   "nbconvert_exporter": "python",
   "pygments_lexer": "ipython3",
   "version": "3.5.2"
  }
 },
 "nbformat": 4,
 "nbformat_minor": 2
}
