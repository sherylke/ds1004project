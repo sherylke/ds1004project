{
 "cells": [
  {
   "cell_type": "code",
   "execution_count": 24,
   "metadata": {
    "collapsed": false
   },
   "outputs": [
    {
     "name": "stderr",
     "output_type": "stream",
     "text": [
      "//anaconda/envs/hw6/lib/python3.6/site-packages/IPython/core/interactiveshell.py:2717: DtypeWarning: Columns (17) have mixed types. Specify dtype option on import or set low_memory=False.\n",
      "  interactivity=interactivity, compiler=compiler, result=result)\n"
     ]
    }
   ],
   "source": [
    "import pandas as pd\n",
    "import json\n",
    "from shapely.geometry import shape, Point\n",
    "from ast import literal_eval\n",
    "\n",
    "data = pd.read_csv('./NYPD_Complaint_Data_Historic.csv')"
   ]
  },
  {
   "cell_type": "code",
   "execution_count": 26,
   "metadata": {
    "collapsed": true
   },
   "outputs": [],
   "source": [
    "with open('NYC zip code.geojson') as f:\n",
    "    js = json.load(f)"
   ]
  },
  {
   "cell_type": "code",
   "execution_count": 119,
   "metadata": {
    "collapsed": false
   },
   "outputs": [],
   "source": [
    "df_z = pd.DataFrame()\n",
    "df_z['Lat_Lon'] = data['Lat_Lon'].unique()\n",
    "df_z['Zipcode'] = None"
   ]
  },
  {
   "cell_type": "code",
   "execution_count": null,
   "metadata": {
    "collapsed": false
   },
   "outputs": [],
   "source": [
    "import numpy as np\n",
    "from ast import literal_eval\n",
    "\n",
    "#http://stackoverflow.com/questions/20776205/point-in-polygon-with-geojson-in-pythonwith open('NYC zip code.geojson') as f:\n",
    "\n",
    "for i in range(len(df_z)):\n",
    "    #point = Point(udata[i][1], udata[i][0])\n",
    "    try:\n",
    "        point = Point(literal_eval(df_z['Lat_Lon'][i])[1],literal_eval(df_z['Lat_Lon'][i])[0])\n",
    "    #print(point)\n",
    "        for feature in js['features']:\n",
    "            polygon = shape(feature['geometry'])\n",
    "            if polygon.contains(point) == True:\n",
    "                df_z['Zipcode'][i] = (int(feature['properties']['postalCode']))\n",
    "            \n",
    "    except ValueError:\n",
    "        df_z['Zipcode'][i] = df_z['Lat_Lon'][i]"
   ]
  },
  {
   "cell_type": "code",
   "execution_count": 102,
   "metadata": {
    "collapsed": false
   },
   "outputs": [],
   "source": [
    "import pickle\n",
    "pickle.dump(zipcode,open('zipcode.p','wb'))"
   ]
  },
  {
   "cell_type": "code",
   "execution_count": null,
   "metadata": {
    "collapsed": true
   },
   "outputs": [],
   "source": [
    "z = pickle.load(open('zipcode.p','rb'))"
   ]
  }
 ],
 "metadata": {
  "kernelspec": {
   "display_name": "Python [conda env:hw6]",
   "language": "python",
   "name": "conda-env-hw6-py"
  },
  "language_info": {
   "codemirror_mode": {
    "name": "ipython",
    "version": 3
   },
   "file_extension": ".py",
   "mimetype": "text/x-python",
   "name": "python",
   "nbconvert_exporter": "python",
   "pygments_lexer": "ipython3",
   "version": "3.6.0"
  }
 },
 "nbformat": 4,
 "nbformat_minor": 1
}
