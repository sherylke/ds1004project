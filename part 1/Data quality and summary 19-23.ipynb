{
 "cells": [
  {
   "cell_type": "markdown",
   "metadata": {},
   "source": [
    "### Column 19 - X-coordinate\n",
    "Code: ***column19_data_quality.py ***\n",
    "This code is used to return the data line by line. \n",
    "The code checks if the X-coordinate is an integer and if it is in New York City.\n",
    "type: X-coordinate for New York State Plane Coordinate System, Long Island Zone, NAD 83, units feet (FIPS 3104).\n",
    "\n",
    "Code: ***column19_data_summary.py ***\n",
    "This code is used to return a summary of all data.\n",
    "There is no INVALID data in our dataset although some of them are NaN."
   ]
  },
  {
   "cell_type": "code",
   "execution_count": 20,
   "metadata": {
    "collapsed": false
   },
   "outputs": [
    {
     "data": {
      "text/html": [
       "<div>\n",
       "<table border=\"1\" class=\"dataframe\">\n",
       "  <thead>\n",
       "    <tr style=\"text-align: right;\">\n",
       "      <th></th>\n",
       "      <th>0</th>\n",
       "      <th>1</th>\n",
       "      <th>2</th>\n",
       "      <th>3</th>\n",
       "    </tr>\n",
       "  </thead>\n",
       "  <tbody>\n",
       "    <tr>\n",
       "      <th>0</th>\n",
       "      <td>1007314.0</td>\n",
       "      <td>INTEGER</td>\n",
       "      <td>X-coordinate for New York State Plane Coordina...</td>\n",
       "      <td>VALID</td>\n",
       "    </tr>\n",
       "    <tr>\n",
       "      <th>1</th>\n",
       "      <td>1043991.0</td>\n",
       "      <td>INTEGER</td>\n",
       "      <td>X-coordinate for New York State Plane Coordina...</td>\n",
       "      <td>VALID</td>\n",
       "    </tr>\n",
       "    <tr>\n",
       "      <th>2</th>\n",
       "      <td>999463.0</td>\n",
       "      <td>INTEGER</td>\n",
       "      <td>X-coordinate for New York State Plane Coordina...</td>\n",
       "      <td>VALID</td>\n",
       "    </tr>\n",
       "    <tr>\n",
       "      <th>3</th>\n",
       "      <td>1060183.0</td>\n",
       "      <td>INTEGER</td>\n",
       "      <td>X-coordinate for New York State Plane Coordina...</td>\n",
       "      <td>VALID</td>\n",
       "    </tr>\n",
       "    <tr>\n",
       "      <th>4</th>\n",
       "      <td>987606.0</td>\n",
       "      <td>INTEGER</td>\n",
       "      <td>X-coordinate for New York State Plane Coordina...</td>\n",
       "      <td>VALID</td>\n",
       "    </tr>\n",
       "  </tbody>\n",
       "</table>\n",
       "</div>"
      ],
      "text/plain": [
       "           0        1                                                  2  \\\n",
       "0  1007314.0  INTEGER  X-coordinate for New York State Plane Coordina...   \n",
       "1  1043991.0  INTEGER  X-coordinate for New York State Plane Coordina...   \n",
       "2   999463.0  INTEGER  X-coordinate for New York State Plane Coordina...   \n",
       "3  1060183.0  INTEGER  X-coordinate for New York State Plane Coordina...   \n",
       "4   987606.0  INTEGER  X-coordinate for New York State Plane Coordina...   \n",
       "\n",
       "       3  \n",
       "0  VALID  \n",
       "1  VALID  \n",
       "2  VALID  \n",
       "3  VALID  \n",
       "4  VALID  "
      ]
     },
     "execution_count": 20,
     "metadata": {},
     "output_type": "execute_result"
    }
   ],
   "source": [
    "pd.read_table('column19_data_quality.out', header = -1).head()"
   ]
  },
  {
   "cell_type": "code",
   "execution_count": 21,
   "metadata": {
    "collapsed": false
   },
   "outputs": [
    {
     "data": {
      "text/html": [
       "<div>\n",
       "<table border=\"1\" class=\"dataframe\">\n",
       "  <thead>\n",
       "    <tr style=\"text-align: right;\">\n",
       "      <th></th>\n",
       "      <th>0</th>\n",
       "      <th>1</th>\n",
       "    </tr>\n",
       "  </thead>\n",
       "  <tbody>\n",
       "    <tr>\n",
       "      <th>0</th>\n",
       "      <td>VALID</td>\n",
       "      <td>4913085</td>\n",
       "    </tr>\n",
       "    <tr>\n",
       "      <th>1</th>\n",
       "      <td>NaN</td>\n",
       "      <td>188146</td>\n",
       "    </tr>\n",
       "  </tbody>\n",
       "</table>\n",
       "</div>"
      ],
      "text/plain": [
       "       0        1\n",
       "0  VALID  4913085\n",
       "1    NaN   188146"
      ]
     },
     "execution_count": 21,
     "metadata": {},
     "output_type": "execute_result"
    }
   ],
   "source": [
    "pd.read_table('column19_data_summary.out', header=-1)"
   ]
  },
  {
   "cell_type": "markdown",
   "metadata": {
    "deletable": true,
    "editable": true
   },
   "source": [
    "### Column 20 - Y-coordinate\n",
    "Code: ***column20_data_quality.py ***\n",
    "This code is used to return the data line by line. \n",
    "The code checks if the Y-coordinate is an integer and if it is in New York City.\n",
    "type: Y-coordinate for New York State Plane Coordinate System, Long Island Zone, NAD 83, units feet (FIPS 3104).\n",
    "\n",
    "Code:*** column20_data_summary.py ***\n",
    "This code is used to return a summary of all data.\n",
    "There is no INVALID data in our dataset although some of them are NaN."
   ]
  },
  {
   "cell_type": "code",
   "execution_count": 15,
   "metadata": {
    "collapsed": false,
    "deletable": true,
    "editable": true
   },
   "outputs": [
    {
     "data": {
      "text/html": [
       "<div>\n",
       "<table border=\"1\" class=\"dataframe\">\n",
       "  <thead>\n",
       "    <tr style=\"text-align: right;\">\n",
       "      <th></th>\n",
       "      <th>0</th>\n",
       "      <th>1</th>\n",
       "      <th>2</th>\n",
       "      <th>3</th>\n",
       "    </tr>\n",
       "  </thead>\n",
       "  <tbody>\n",
       "    <tr>\n",
       "      <th>0</th>\n",
       "      <td>241257.0</td>\n",
       "      <td>INTEGER</td>\n",
       "      <td>Y-coordinate for New York State Plane Coordina...</td>\n",
       "      <td>VALID</td>\n",
       "    </tr>\n",
       "    <tr>\n",
       "      <th>1</th>\n",
       "      <td>193406.0</td>\n",
       "      <td>INTEGER</td>\n",
       "      <td>Y-coordinate for New York State Plane Coordina...</td>\n",
       "      <td>VALID</td>\n",
       "    </tr>\n",
       "    <tr>\n",
       "      <th>2</th>\n",
       "      <td>231690.0</td>\n",
       "      <td>INTEGER</td>\n",
       "      <td>Y-coordinate for New York State Plane Coordina...</td>\n",
       "      <td>VALID</td>\n",
       "    </tr>\n",
       "    <tr>\n",
       "      <th>3</th>\n",
       "      <td>177862.0</td>\n",
       "      <td>INTEGER</td>\n",
       "      <td>Y-coordinate for New York State Plane Coordina...</td>\n",
       "      <td>VALID</td>\n",
       "    </tr>\n",
       "    <tr>\n",
       "      <th>4</th>\n",
       "      <td>208148.0</td>\n",
       "      <td>INTEGER</td>\n",
       "      <td>Y-coordinate for New York State Plane Coordina...</td>\n",
       "      <td>VALID</td>\n",
       "    </tr>\n",
       "  </tbody>\n",
       "</table>\n",
       "</div>"
      ],
      "text/plain": [
       "          0        1                                                  2      3\n",
       "0  241257.0  INTEGER  Y-coordinate for New York State Plane Coordina...  VALID\n",
       "1  193406.0  INTEGER  Y-coordinate for New York State Plane Coordina...  VALID\n",
       "2  231690.0  INTEGER  Y-coordinate for New York State Plane Coordina...  VALID\n",
       "3  177862.0  INTEGER  Y-coordinate for New York State Plane Coordina...  VALID\n",
       "4  208148.0  INTEGER  Y-coordinate for New York State Plane Coordina...  VALID"
      ]
     },
     "execution_count": 15,
     "metadata": {},
     "output_type": "execute_result"
    }
   ],
   "source": [
    "pd.read_table('column20_data_quality.out', header = -1).head()"
   ]
  },
  {
   "cell_type": "code",
   "execution_count": 7,
   "metadata": {
    "collapsed": false,
    "deletable": true,
    "editable": true
   },
   "outputs": [
    {
     "data": {
      "text/html": [
       "<div>\n",
       "<table border=\"1\" class=\"dataframe\">\n",
       "  <thead>\n",
       "    <tr style=\"text-align: right;\">\n",
       "      <th></th>\n",
       "      <th>0</th>\n",
       "      <th>1</th>\n",
       "    </tr>\n",
       "  </thead>\n",
       "  <tbody>\n",
       "    <tr>\n",
       "      <th>0</th>\n",
       "      <td>VALID</td>\n",
       "      <td>4913085</td>\n",
       "    </tr>\n",
       "    <tr>\n",
       "      <th>1</th>\n",
       "      <td>NaN</td>\n",
       "      <td>188146</td>\n",
       "    </tr>\n",
       "  </tbody>\n",
       "</table>\n",
       "</div>"
      ],
      "text/plain": [
       "       0        1\n",
       "0  VALID  4913085\n",
       "1    NaN   188146"
      ]
     },
     "execution_count": 7,
     "metadata": {},
     "output_type": "execute_result"
    }
   ],
   "source": [
    "pd.read_table('column20_data_summary.out', header = -1)"
   ]
  },
  {
   "cell_type": "markdown",
   "metadata": {
    "deletable": true,
    "editable": true
   },
   "source": [
    "### Column 21 - Latitude\n",
    "Code: ***column21_data_quality.py ***\n",
    "This code is used to return the data line by line. \n",
    "The code checks if the Latitude is an float and if it is valid in New York City.\n",
    "type: Latitude coordinate for Global Coordinate System, WGS 1984, decimal degrees (EPSG 4326) \n",
    "\n",
    "Code: ***column21_data_summary.py ***\n",
    "This code is used to return a summary of all data.\n",
    "There is no INVALID data in our dataset although some of them are NaN."
   ]
  },
  {
   "cell_type": "code",
   "execution_count": 16,
   "metadata": {
    "collapsed": false,
    "deletable": true,
    "editable": true
   },
   "outputs": [
    {
     "data": {
      "text/html": [
       "<div>\n",
       "<table border=\"1\" class=\"dataframe\">\n",
       "  <thead>\n",
       "    <tr style=\"text-align: right;\">\n",
       "      <th></th>\n",
       "      <th>0</th>\n",
       "      <th>1</th>\n",
       "      <th>2</th>\n",
       "      <th>3</th>\n",
       "    </tr>\n",
       "  </thead>\n",
       "  <tbody>\n",
       "    <tr>\n",
       "      <th>0</th>\n",
       "      <td>40.828848</td>\n",
       "      <td>DECIMAL</td>\n",
       "      <td>Latitude for Global Coordinate System</td>\n",
       "      <td>VALID</td>\n",
       "    </tr>\n",
       "    <tr>\n",
       "      <th>1</th>\n",
       "      <td>40.697338</td>\n",
       "      <td>DECIMAL</td>\n",
       "      <td>Latitude for Global Coordinate System</td>\n",
       "      <td>VALID</td>\n",
       "    </tr>\n",
       "    <tr>\n",
       "      <th>2</th>\n",
       "      <td>40.802607</td>\n",
       "      <td>DECIMAL</td>\n",
       "      <td>Latitude for Global Coordinate System</td>\n",
       "      <td>VALID</td>\n",
       "    </tr>\n",
       "    <tr>\n",
       "      <th>3</th>\n",
       "      <td>40.654549</td>\n",
       "      <td>DECIMAL</td>\n",
       "      <td>Latitude for Global Coordinate System</td>\n",
       "      <td>VALID</td>\n",
       "    </tr>\n",
       "    <tr>\n",
       "      <th>4</th>\n",
       "      <td>40.738002</td>\n",
       "      <td>DECIMAL</td>\n",
       "      <td>Latitude for Global Coordinate System</td>\n",
       "      <td>VALID</td>\n",
       "    </tr>\n",
       "  </tbody>\n",
       "</table>\n",
       "</div>"
      ],
      "text/plain": [
       "           0        1                                      2      3\n",
       "0  40.828848  DECIMAL  Latitude for Global Coordinate System  VALID\n",
       "1  40.697338  DECIMAL  Latitude for Global Coordinate System  VALID\n",
       "2  40.802607  DECIMAL  Latitude for Global Coordinate System  VALID\n",
       "3  40.654549  DECIMAL  Latitude for Global Coordinate System  VALID\n",
       "4  40.738002  DECIMAL  Latitude for Global Coordinate System  VALID"
      ]
     },
     "execution_count": 16,
     "metadata": {},
     "output_type": "execute_result"
    }
   ],
   "source": [
    "pd.read_table('column21_data_quality.out', header = -1).head()"
   ]
  },
  {
   "cell_type": "code",
   "execution_count": 9,
   "metadata": {
    "collapsed": false,
    "deletable": true,
    "editable": true
   },
   "outputs": [
    {
     "data": {
      "text/html": [
       "<div>\n",
       "<table border=\"1\" class=\"dataframe\">\n",
       "  <thead>\n",
       "    <tr style=\"text-align: right;\">\n",
       "      <th></th>\n",
       "      <th>0</th>\n",
       "      <th>1</th>\n",
       "    </tr>\n",
       "  </thead>\n",
       "  <tbody>\n",
       "    <tr>\n",
       "      <th>0</th>\n",
       "      <td>VALID</td>\n",
       "      <td>4913085</td>\n",
       "    </tr>\n",
       "    <tr>\n",
       "      <th>1</th>\n",
       "      <td>NaN</td>\n",
       "      <td>188146</td>\n",
       "    </tr>\n",
       "  </tbody>\n",
       "</table>\n",
       "</div>"
      ],
      "text/plain": [
       "       0        1\n",
       "0  VALID  4913085\n",
       "1    NaN   188146"
      ]
     },
     "execution_count": 9,
     "metadata": {},
     "output_type": "execute_result"
    }
   ],
   "source": [
    "pd.read_table('column21_data_summary.out', header = -1)"
   ]
  },
  {
   "cell_type": "markdown",
   "metadata": {
    "deletable": true,
    "editable": true
   },
   "source": [
    "### Column 22 - Longitud\n",
    "Code: ***column22_data_quality.py ***\n",
    "This code is used to return the data line by line. \n",
    "The code checks if the Longitude is an float and if it is valid in New York City.\n",
    "type: Longitude coordinate for Global Coordinate System, WGS 1984, decimal degrees (EPSG 4326) \n",
    "\n",
    "Code: ***column22_data_summary.py ***\n",
    "This code is used to return a summary of all data.\n",
    "There is no INVALID data in our dataset although some of them are NaN."
   ]
  },
  {
   "cell_type": "code",
   "execution_count": 17,
   "metadata": {
    "collapsed": false,
    "deletable": true,
    "editable": true
   },
   "outputs": [
    {
     "data": {
      "text/html": [
       "<div>\n",
       "<table border=\"1\" class=\"dataframe\">\n",
       "  <thead>\n",
       "    <tr style=\"text-align: right;\">\n",
       "      <th></th>\n",
       "      <th>0</th>\n",
       "      <th>1</th>\n",
       "      <th>2</th>\n",
       "      <th>3</th>\n",
       "    </tr>\n",
       "  </thead>\n",
       "  <tbody>\n",
       "    <tr>\n",
       "      <th>0</th>\n",
       "      <td>-73.916661</td>\n",
       "      <td>DECIMAL</td>\n",
       "      <td>Longitude for Global Coordinate System</td>\n",
       "      <td>VALID</td>\n",
       "    </tr>\n",
       "    <tr>\n",
       "      <th>1</th>\n",
       "      <td>-73.784557</td>\n",
       "      <td>DECIMAL</td>\n",
       "      <td>Longitude for Global Coordinate System</td>\n",
       "      <td>VALID</td>\n",
       "    </tr>\n",
       "    <tr>\n",
       "      <th>2</th>\n",
       "      <td>-73.945052</td>\n",
       "      <td>DECIMAL</td>\n",
       "      <td>Longitude for Global Coordinate System</td>\n",
       "      <td>VALID</td>\n",
       "    </tr>\n",
       "    <tr>\n",
       "      <th>3</th>\n",
       "      <td>-73.726339</td>\n",
       "      <td>DECIMAL</td>\n",
       "      <td>Longitude for Global Coordinate System</td>\n",
       "      <td>VALID</td>\n",
       "    </tr>\n",
       "    <tr>\n",
       "      <th>4</th>\n",
       "      <td>-73.987891</td>\n",
       "      <td>DECIMAL</td>\n",
       "      <td>Longitude for Global Coordinate System</td>\n",
       "      <td>VALID</td>\n",
       "    </tr>\n",
       "  </tbody>\n",
       "</table>\n",
       "</div>"
      ],
      "text/plain": [
       "           0        1                                       2      3\n",
       "0 -73.916661  DECIMAL  Longitude for Global Coordinate System  VALID\n",
       "1 -73.784557  DECIMAL  Longitude for Global Coordinate System  VALID\n",
       "2 -73.945052  DECIMAL  Longitude for Global Coordinate System  VALID\n",
       "3 -73.726339  DECIMAL  Longitude for Global Coordinate System  VALID\n",
       "4 -73.987891  DECIMAL  Longitude for Global Coordinate System  VALID"
      ]
     },
     "execution_count": 17,
     "metadata": {},
     "output_type": "execute_result"
    }
   ],
   "source": [
    "pd.read_table('column22_data_quality.out', header = -1).head()"
   ]
  },
  {
   "cell_type": "code",
   "execution_count": 11,
   "metadata": {
    "collapsed": false,
    "deletable": true,
    "editable": true
   },
   "outputs": [
    {
     "data": {
      "text/html": [
       "<div>\n",
       "<table border=\"1\" class=\"dataframe\">\n",
       "  <thead>\n",
       "    <tr style=\"text-align: right;\">\n",
       "      <th></th>\n",
       "      <th>0</th>\n",
       "      <th>1</th>\n",
       "    </tr>\n",
       "  </thead>\n",
       "  <tbody>\n",
       "    <tr>\n",
       "      <th>0</th>\n",
       "      <td>VALID</td>\n",
       "      <td>4913085</td>\n",
       "    </tr>\n",
       "    <tr>\n",
       "      <th>1</th>\n",
       "      <td>NaN</td>\n",
       "      <td>188146</td>\n",
       "    </tr>\n",
       "  </tbody>\n",
       "</table>\n",
       "</div>"
      ],
      "text/plain": [
       "       0        1\n",
       "0  VALID  4913085\n",
       "1    NaN   188146"
      ]
     },
     "execution_count": 11,
     "metadata": {},
     "output_type": "execute_result"
    }
   ],
   "source": [
    "pd.read_table('column22_data_summary.out', header = -1)"
   ]
  },
  {
   "cell_type": "markdown",
   "metadata": {
    "deletable": true,
    "editable": true
   },
   "source": [
    "### Column 23 - Location\n",
    "Code: ***column23_data_quality.py ***\n",
    "This code is used to return the data line by line. \n",
    "The code checks if the latitude and longitude is an float and if it is valid in New York City.\n",
    "type: (Latitude, Longitude) coordinate for Global Coordinate System, WGS 1984, decimal degrees (EPSG 4326) \n",
    "\n",
    "Code: ***column23_data_summary.py ***\n",
    "This code is used to return a summary of all data.\n",
    "There is no INVALID data in our dataset although some of them are NaN."
   ]
  },
  {
   "cell_type": "code",
   "execution_count": 18,
   "metadata": {
    "collapsed": false,
    "deletable": true,
    "editable": true
   },
   "outputs": [
    {
     "data": {
      "text/html": [
       "<div>\n",
       "<table border=\"1\" class=\"dataframe\">\n",
       "  <thead>\n",
       "    <tr style=\"text-align: right;\">\n",
       "      <th></th>\n",
       "      <th>0</th>\n",
       "      <th>1</th>\n",
       "      <th>2</th>\n",
       "      <th>3</th>\n",
       "    </tr>\n",
       "  </thead>\n",
       "  <tbody>\n",
       "    <tr>\n",
       "      <th>0</th>\n",
       "      <td>(40.828848333, -73.916661142)</td>\n",
       "      <td>DECIMAL</td>\n",
       "      <td>Location for Global Coordinate System</td>\n",
       "      <td>VALID</td>\n",
       "    </tr>\n",
       "    <tr>\n",
       "      <th>1</th>\n",
       "      <td>(40.697338138, -73.784556739)</td>\n",
       "      <td>DECIMAL</td>\n",
       "      <td>Location for Global Coordinate System</td>\n",
       "      <td>VALID</td>\n",
       "    </tr>\n",
       "    <tr>\n",
       "      <th>2</th>\n",
       "      <td>(40.802606608, -73.945051911)</td>\n",
       "      <td>DECIMAL</td>\n",
       "      <td>Location for Global Coordinate System</td>\n",
       "      <td>VALID</td>\n",
       "    </tr>\n",
       "    <tr>\n",
       "      <th>3</th>\n",
       "      <td>(40.654549444, -73.726338791)</td>\n",
       "      <td>DECIMAL</td>\n",
       "      <td>Location for Global Coordinate System</td>\n",
       "      <td>VALID</td>\n",
       "    </tr>\n",
       "    <tr>\n",
       "      <th>4</th>\n",
       "      <td>(40.7380024, -73.98789129)</td>\n",
       "      <td>DECIMAL</td>\n",
       "      <td>Location for Global Coordinate System</td>\n",
       "      <td>VALID</td>\n",
       "    </tr>\n",
       "  </tbody>\n",
       "</table>\n",
       "</div>"
      ],
      "text/plain": [
       "                               0        1  \\\n",
       "0  (40.828848333, -73.916661142)  DECIMAL   \n",
       "1  (40.697338138, -73.784556739)  DECIMAL   \n",
       "2  (40.802606608, -73.945051911)  DECIMAL   \n",
       "3  (40.654549444, -73.726338791)  DECIMAL   \n",
       "4     (40.7380024, -73.98789129)  DECIMAL   \n",
       "\n",
       "                                       2      3  \n",
       "0  Location for Global Coordinate System  VALID  \n",
       "1  Location for Global Coordinate System  VALID  \n",
       "2  Location for Global Coordinate System  VALID  \n",
       "3  Location for Global Coordinate System  VALID  \n",
       "4  Location for Global Coordinate System  VALID  "
      ]
     },
     "execution_count": 18,
     "metadata": {},
     "output_type": "execute_result"
    }
   ],
   "source": [
    "pd.read_table('column23_data_quality.out', header = -1).head()"
   ]
  },
  {
   "cell_type": "code",
   "execution_count": 13,
   "metadata": {
    "collapsed": false,
    "deletable": true,
    "editable": true
   },
   "outputs": [
    {
     "data": {
      "text/html": [
       "<div>\n",
       "<table border=\"1\" class=\"dataframe\">\n",
       "  <thead>\n",
       "    <tr style=\"text-align: right;\">\n",
       "      <th></th>\n",
       "      <th>0</th>\n",
       "      <th>1</th>\n",
       "    </tr>\n",
       "  </thead>\n",
       "  <tbody>\n",
       "    <tr>\n",
       "      <th>0</th>\n",
       "      <td>VALID</td>\n",
       "      <td>4913085</td>\n",
       "    </tr>\n",
       "    <tr>\n",
       "      <th>1</th>\n",
       "      <td>NaN</td>\n",
       "      <td>188146</td>\n",
       "    </tr>\n",
       "  </tbody>\n",
       "</table>\n",
       "</div>"
      ],
      "text/plain": [
       "       0        1\n",
       "0  VALID  4913085\n",
       "1    NaN   188146"
      ]
     },
     "execution_count": 13,
     "metadata": {},
     "output_type": "execute_result"
    }
   ],
   "source": [
    "pd.read_table('column23_data_summary.out', header = -1)"
   ]
  }
 ],
 "metadata": {
  "anaconda-cloud": {},
  "kernelspec": {
   "display_name": "Python [conda root]",
   "language": "python",
   "name": "conda-root-py"
  },
  "language_info": {
   "codemirror_mode": {
    "name": "ipython",
    "version": 3
   },
   "file_extension": ".py",
   "mimetype": "text/x-python",
   "name": "python",
   "nbconvert_exporter": "python",
   "pygments_lexer": "ipython3",
   "version": "3.5.2"
  }
 },
 "nbformat": 4,
 "nbformat_minor": 2
}
